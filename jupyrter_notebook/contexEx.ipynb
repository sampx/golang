{
  "cells": [
    {
      "cell_type": "code",
      "execution_count": null,
      "metadata": {
        "collapsed": false,
        "inputHidden": false,
        "outputHidden": false
      },
      "outputs": [],
      "source": [
        "import (\n",
        "\t\"context\"\n",
        "\t\"fmt\"\n",
        ")\n",
        "//context里面的key应该是一个自定义类型，以免与其他程序出现key冲突\n",
        "type favContextKey string\n",
        "\n",
        "searchCtxKey := func(ctx context.Context, k favContextKey) {\n",
        "\tif v := ctx.Value(k); v != nil {\n",
        "\t\tfmt.Println(\"Got value:\", v)\n",
        "\t\treturn\n",
        "\t}\n",
        "\tfmt.Println(\"Key not found in context:\", k)\n",
        "}\n",
        "\n",
        "key := favContextKey(\"language\")\n",
        "ctx := context.WithValue(context.Background(), key, \"Go\")"
      ]
    },
    {
      "cell_type": "code",
      "execution_count": null,
      "metadata": {
        "collapsed": false,
        "inputHidden": false,
        "outputHidden": false
      },
      "outputs": [],
      "source": [
        "ctx"
      ]
    },
    {
      "cell_type": "code",
      "execution_count": null,
      "metadata": {
        "collapsed": false,
        "inputHidden": false,
        "outputHidden": false
      },
      "outputs": [],
      "source": [
        "f(ctx, k)"
      ]
    },
    {
      "cell_type": "code",
      "execution_count": null,
      "metadata": {
        "collapsed": false,
        "inputHidden": false,
        "outputHidden": false
      },
      "outputs": [],
      "source": [
        "f(ctx, favContextKey(\"color\"))"
      ]
    },
    {
      "cell_type": "code",
      "execution_count": null,
      "metadata": {
        "collapsed": false,
        "inputHidden": false,
        "outputHidden": false
      },
      "outputs": [],
      "source": []
    }
  ],
  "metadata": {
    "kernel_info": {
      "name": "gophernotes"
    },
    "kernelspec": {
      "display_name": "Go",
      "language": "go",
      "name": "go"
    },
    "language_info": {
      "codemirror_mode": "",
      "file_extension": ".go",
      "mimetype": "",
      "name": "go",
      "nbconvert_exporter": "",
      "pygments_lexer": "",
      "version": "go1.17.5"
    },
    "nteract": {
      "version": "0.12.3"
    }
  },
  "nbformat": 4,
  "nbformat_minor": 4
}
