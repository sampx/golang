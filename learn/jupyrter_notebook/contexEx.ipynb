{
  "cells": [
    {
      "cell_type": "code",
      "execution_count": null,
      "metadata": {
        "collapsed": false,
        "inputHidden": false,
        "outputHidden": false
      },
      "outputs": [
        {
          "ename": "",
          "evalue": "",
          "output_type": "error",
          "traceback": [
            "\u001b[1;31mFailed to start the Kernel. \n",
            "2022/01/27 20:59:48 zmq4 was installed with ZeroMQ version 4.2.5, but the application links with version 4.3.2. \n",
            "View Jupyter <a href='command:jupyter.viewOutput'>log</a> for further details."
          ]
        }
      ],
      "source": [
        "import (\n",
        "\t\"context\"\n",
        "\t\"fmt\"\n",
        ")"
      ]
    },
    {
      "cell_type": "code",
      "execution_count": 2,
      "metadata": {
        "collapsed": false,
        "inputHidden": false,
        "outputHidden": false
      },
      "outputs": [],
      "source": [
        "type favContextKey string"
      ]
    },
    {
      "cell_type": "code",
      "execution_count": 3,
      "metadata": {
        "collapsed": false,
        "inputHidden": false,
        "outputHidden": false
      },
      "outputs": [],
      "source": [
        "f := func(ctx context.Context, k favContextKey) {\n",
        "\t\tif v := ctx.Value(k); v != nil {\n",
        "\t\t\tfmt.Println(\"found value:\", v)\n",
        "\t\t\treturn\n",
        "\t\t}\n",
        "\t\tfmt.Println(\"key not found:\", k)\n",
        "\t}"
      ]
    },
    {
      "cell_type": "code",
      "execution_count": 4,
      "metadata": {
        "collapsed": false,
        "inputHidden": false,
        "outputHidden": false
      },
      "outputs": [],
      "source": [
        "k := favContextKey(\"language\")\n",
        "\tctx := context.WithValue(context.Background(), k, \"Go\")"
      ]
    },
    {
      "cell_type": "code",
      "execution_count": 5,
      "metadata": {
        "collapsed": false,
        "inputHidden": false,
        "outputHidden": false
      },
      "outputs": [
        {
          "data": {
            "text/plain": [
              "context.Background.WithValue(\"language\", \"Go\")"
            ]
          },
          "execution_count": 5,
          "metadata": {},
          "output_type": "execute_result"
        }
      ],
      "source": [
        "ctx"
      ]
    },
    {
      "cell_type": "code",
      "execution_count": 6,
      "metadata": {
        "collapsed": false,
        "inputHidden": false,
        "outputHidden": false
      },
      "outputs": [
        {
          "name": "stdout",
          "output_type": "stream",
          "text": [
            "found value: Go\n"
          ]
        }
      ],
      "source": [
        "f(ctx, k)"
      ]
    },
    {
      "cell_type": "code",
      "execution_count": 7,
      "metadata": {
        "collapsed": false,
        "inputHidden": false,
        "outputHidden": false
      },
      "outputs": [
        {
          "name": "stdout",
          "output_type": "stream",
          "text": [
            "key not found: color\n"
          ]
        }
      ],
      "source": [
        "f(ctx, favContextKey(\"color\"))"
      ]
    },
    {
      "cell_type": "code",
      "execution_count": null,
      "metadata": {
        "collapsed": false,
        "inputHidden": false,
        "outputHidden": false
      },
      "outputs": [],
      "source": []
    }
  ],
  "metadata": {
    "kernel_info": {
      "name": "gophernotes"
    },
    "kernelspec": {
      "display_name": "Go",
      "language": "go",
      "name": "go"
    },
    "language_info": {
      "codemirror_mode": "",
      "file_extension": ".go",
      "mimetype": "",
      "name": "go",
      "nbconvert_exporter": "",
      "pygments_lexer": "",
      "version": "go1.11.2"
    },
    "nteract": {
      "version": "0.12.3"
    }
  },
  "nbformat": 4,
  "nbformat_minor": 4
}
