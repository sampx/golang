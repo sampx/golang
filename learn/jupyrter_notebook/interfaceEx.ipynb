{
 "cells": [
  {
   "cell_type": "code",
   "execution_count": 50,
   "metadata": {},
   "outputs": [],
   "source": [
    "import (\n",
    "    \"fmt\"\n",
    "    \"math\"\n",
    "    \"encoding/json\"\n",
    ")"
   ]
  },
  {
   "cell_type": "code",
   "execution_count": 31,
   "metadata": {
    "collapsed": true
   },
   "outputs": [],
   "source": [
    "var i interface{}"
   ]
  },
  {
   "cell_type": "code",
   "execution_count": 48,
   "metadata": {
    "collapsed": true
   },
   "outputs": [],
   "source": [
    "i = \"a string\""
   ]
  },
  {
   "cell_type": "code",
   "execution_count": 33,
   "metadata": {},
   "outputs": [
    {
     "name": "stdout",
     "output_type": "stream",
     "text": [
      "string"
     ]
    },
    {
     "data": {
      "text/plain": [
       "6 <nil>"
      ]
     },
     "execution_count": 33,
     "metadata": {},
     "output_type": "execute_result"
    }
   ],
   "source": [
    "fmt.Printf(\"%T\",i)"
   ]
  },
  {
   "cell_type": "code",
   "execution_count": 46,
   "metadata": {
    "scrolled": false
   },
   "outputs": [
    {
     "name": "stdout",
     "output_type": "stream",
     "text": [
      "int"
     ]
    },
    {
     "data": {
      "text/plain": [
       "3 <nil>"
      ]
     },
     "execution_count": 46,
     "metadata": {},
     "output_type": "execute_result"
    }
   ],
   "source": [
    "i = 2011\n",
    "fmt.Printf(\"%T\",i)"
   ]
  },
  {
   "cell_type": "code",
   "execution_count": 45,
   "metadata": {
    "collapsed": true
   },
   "outputs": [],
   "source": [
    "i = 2.777"
   ]
  },
  {
   "cell_type": "code",
   "execution_count": 41,
   "metadata": {},
   "outputs": [
    {
     "name": "stdout",
     "output_type": "stream",
     "text": [
      "float64,float64\n",
      "the circle's area 24.227111172875365\n"
     ]
    },
    {
     "data": {
      "text/plain": [
       "37 <nil>"
      ]
     },
     "execution_count": 41,
     "metadata": {},
     "output_type": "execute_result"
    }
   ],
   "source": [
    "r := i.(float64) //用类型断言来取值,类型必须严格一致.此处i的值默认是float64,i的类型时interface{}\n",
    "fmt.Printf(\"%T,%T\\n\",i,r)\n",
    "fmt.Println(\"the circle's area\", math.Pi*r*r)"
   ]
  },
  {
   "cell_type": "code",
   "execution_count": 49,
   "metadata": {},
   "outputs": [
    {
     "name": "stdout",
     "output_type": "stream",
     "text": [
      "i swapped by halves is ringa st\n"
     ]
    }
   ],
   "source": [
    "switch v := i.(type) { //取接口值的类型\n",
    "case int:\n",
    "    fmt.Println(\"twice i is\", v*2)\n",
    "case float64:\n",
    "    fmt.Println(\"the reciprocal of i is\", 1/v)\n",
    "case string:\n",
    "    h := len(v) / 2\n",
    "    fmt.Println(\"i swapped by halves is\", v[h:]+v[:h])\n",
    "default:\n",
    "    // i isn't one of the types above\n",
    "}"
   ]
  },
  {
   "cell_type": "markdown",
   "metadata": {},
   "source": [
    "一个json的例子"
   ]
  },
  {
   "cell_type": "code",
   "execution_count": 51,
   "metadata": {
    "collapsed": true
   },
   "outputs": [],
   "source": [
    "b := []byte(`{\"Name\":\"Wednesday\",\"Age\":6,\"Parents\":[\"Gomez\",\"Morticia\"]}`)"
   ]
  },
  {
   "cell_type": "code",
   "execution_count": 56,
   "metadata": {},
   "outputs": [
    {
     "name": "stdout",
     "output_type": "stream",
     "text": [
      "[]uint8,[123 34 78 97 109 101 34 58 34 87 101 100 110 101 115 100 97 121 34 44 34 65 103 101 34 58 54 44 34 80 97 114 101 110 116 115 34 58 91 34 71 111 109 101 122 34 44 34 77 111 114 116 105 99 105 97 34 93 125]\n",
      "map[string]interface {},map[Parents:[Gomez Morticia] Name:Wednesday Age:6]\n"
     ]
    },
    {
     "data": {
      "text/plain": [
       "75 <nil>"
      ]
     },
     "execution_count": 56,
     "metadata": {},
     "output_type": "execute_result"
    }
   ],
   "source": [
    "fmt.Printf(\"%T,%v\\n\",b,b)\n",
    "var f interface{}\n",
    "err := json.Unmarshal(b, &f)\n",
    "fmt.Printf(\"%T,%v\\n\",f,f)"
   ]
  },
  {
   "cell_type": "code",
   "execution_count": 57,
   "metadata": {},
   "outputs": [
    {
     "name": "stdout",
     "output_type": "stream",
     "text": [
      "Name is string Wednesday\n",
      "Age is float64 6\n",
      "Parents is an array:\n",
      "0 Gomez\n",
      "1 Morticia\n"
     ]
    }
   ],
   "source": [
    "m := f.(map[string]interface{}) //用类型断言来取值\n",
    "for k, v := range m {\n",
    "    switch vv := v.(type) {\n",
    "    case string:\n",
    "        fmt.Println(k, \"is string\", vv)\n",
    "    case float64:\n",
    "        fmt.Println(k, \"is float64\", vv)\n",
    "    case []interface{}:\n",
    "        fmt.Println(k, \"is an array:\")\n",
    "        for i, u := range vv {\n",
    "            fmt.Println(i, u)\n",
    "        }\n",
    "    default:\n",
    "        fmt.Println(k, \"is of a type I don't know how to handle\")\n",
    "    }\n",
    "}"
   ]
  },
  {
   "cell_type": "markdown",
   "metadata": {},
   "source": [
    "json取值到类型"
   ]
  },
  {
   "cell_type": "code",
   "execution_count": 59,
   "metadata": {},
   "outputs": [
    {
     "name": "stdout",
     "output_type": "stream",
     "text": [
      "struct { Name string; Age int; Parents []string },{Wednesday 6 [Gomez Morticia]}\n"
     ]
    },
    {
     "data": {
      "text/plain": [
       "81 <nil>"
      ]
     },
     "execution_count": 59,
     "metadata": {},
     "output_type": "execute_result"
    }
   ],
   "source": [
    "type FamilyMember struct {\n",
    "    Name    string\n",
    "    Age     int\n",
    "    Parents []string\n",
    "}\n",
    "\n",
    "var m FamilyMember\n",
    "err := json.Unmarshal(b, &m)\n",
    "fmt.Printf(\"%T,%v\\n\",m,m)"
   ]
  },
  {
   "cell_type": "code",
   "execution_count": null,
   "metadata": {
    "collapsed": true
   },
   "outputs": [],
   "source": []
  }
 ],
 "metadata": {
  "kernelspec": {
   "display_name": "Go",
   "language": "go",
   "name": "gophernotes"
  },
  "language_info": {
   "codemirror_mode": "",
   "file_extension": ".go",
   "mimetype": "",
   "name": "go",
   "nbconvert_exporter": "",
   "pygments_lexer": "",
   "version": "go1.11.2"
  }
 },
 "nbformat": 4,
 "nbformat_minor": 2
}
